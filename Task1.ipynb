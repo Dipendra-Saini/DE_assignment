{
 "cells": [
  {
   "cell_type": "markdown",
   "id": "f109bf3a-03e9-45fb-b597-0494b2779666",
   "metadata": {},
   "source": [
    "Importing the Necessary Module"
   ]
  },
  {
   "cell_type": "code",
   "execution_count": 1,
   "id": "bf67afa1-ba76-4d82-b276-6f99436e0f1e",
   "metadata": {
    "tags": []
   },
   "outputs": [],
   "source": [
    "import pandas as pd\n",
    "import json"
   ]
  },
  {
   "cell_type": "markdown",
   "id": "8e2b0e26-203a-48fb-9635-4dfb8cd1f8bd",
   "metadata": {},
   "source": [
    "This function will help to find min employee and max employee"
   ]
  },
  {
   "cell_type": "code",
   "execution_count": 2,
   "id": "e698addf-e54e-4af3-993c-9cf213dbf55c",
   "metadata": {
    "tags": []
   },
   "outputs": [],
   "source": [
    "def get_max_min(row):\n",
    "    if row is None:\n",
    "        return pd.Series([None, None])\n",
    "    else:\n",
    "        if type(row)==float:\n",
    "            return pd.Series([None, None])\n",
    "        else:\n",
    "            return pd.Series([row['max'], row['min']])"
   ]
  },
  {
   "cell_type": "markdown",
   "id": "833e2449-ee13-44be-804a-f04d974159df",
   "metadata": {},
   "source": [
    "This is the main function which is modifing the data so that it is easy to run task on the dataset"
   ]
  },
  {
   "cell_type": "code",
   "execution_count": 3,
   "id": "6229f54a-c9d5-4436-805a-71c2fd7038e5",
   "metadata": {
    "tags": []
   },
   "outputs": [],
   "source": [
    "def main():\n",
    "    f = open('domain.json',encoding='utf8')\n",
    "    data = json.load(f)\n",
    "    df = pd.DataFrame(data)\n",
    "    new_df = df.drop(columns = ['_id', 'UpdatedOn', 'domainName', 'crunchbase_url', 'companyDesc', 'companyWebsite', 'foundedDate', 'fundingList'])\n",
    "    df = new_df.explode('tags')\n",
    "    df = df.explode('companyName')\n",
    "    df[['Employeemax', 'Employeemin']] = df['employeeNumber'].apply(get_max_min)\n",
    "    df = df.drop(columns= ['employeeNumber'])\n",
    "    return df"
   ]
  },
  {
   "cell_type": "markdown",
   "id": "7979766e-af79-45f7-80ec-b6613e1cb4d8",
   "metadata": {
    "tags": []
   },
   "source": [
    "This function will give the answer of our first task/question"
   ]
  },
  {
   "cell_type": "code",
   "execution_count": 4,
   "id": "6365755c-0d8a-4d3c-9231-9b54b04cad6e",
   "metadata": {
    "tags": []
   },
   "outputs": [],
   "source": [
    "def find_similar(company):\n",
    "    targetRow = df[df['companyName']==company]\n",
    "    tags = list(targetRow['tags'])\n",
    "    TYPE = list(targetRow['TYPE'])\n",
    "    myset = set()\n",
    "    for row in df.iterrows():\n",
    "        if row[1]['tags'] in tags and row[1]['TYPE'] in TYPE:\n",
    "            \n",
    "            if row[1]['companyName'] == company:\n",
    "                continue\n",
    "            else:\n",
    "                myset.add(row[1]['companyName'])\n",
    "    return myset"
   ]
  },
  {
   "cell_type": "markdown",
   "id": "2e08db48-e57f-4b8c-8d89-1e4a77fae310",
   "metadata": {},
   "source": [
    "Building the dataset for our task (calling the main function)"
   ]
  },
  {
   "cell_type": "code",
   "execution_count": 5,
   "id": "c3bd8c7f-2b40-4d7e-9daf-298728083bc2",
   "metadata": {
    "tags": []
   },
   "outputs": [],
   "source": [
    "df = main()"
   ]
  },
  {
   "cell_type": "markdown",
   "id": "a53f7ffc-7c09-4909-b74f-83d7306972fa",
   "metadata": {},
   "source": [
    "Here you can use find_similar functin n number of time and get your result"
   ]
  },
  {
   "cell_type": "code",
   "execution_count": 7,
   "id": "c7f5a516-1ffe-4432-bff5-6c265cab3542",
   "metadata": {
    "tags": []
   },
   "outputs": [
    {
     "data": {
      "text/plain": [
       "['autodesk india private limited',\n",
       " '3dphy',\n",
       " 'autodesk india .',\n",
       " 'autodesk india',\n",
       " 'camo software',\n",
       " 'autodesk inc',\n",
       " 'autodesk']"
      ]
     },
     "execution_count": 7,
     "metadata": {},
     "output_type": "execute_result"
    }
   ],
   "source": [
    "list(find_similar('3d networks'))"
   ]
  },
  {
   "cell_type": "code",
   "execution_count": null,
   "id": "2dac266f-5886-4d56-81c7-f137eaa69db1",
   "metadata": {},
   "outputs": [],
   "source": []
  }
 ],
 "metadata": {
  "kernelspec": {
   "display_name": "Python 3 (ipykernel)",
   "language": "python",
   "name": "python3"
  },
  "language_info": {
   "codemirror_mode": {
    "name": "ipython",
    "version": 3
   },
   "file_extension": ".py",
   "mimetype": "text/x-python",
   "name": "python",
   "nbconvert_exporter": "python",
   "pygments_lexer": "ipython3",
   "version": "3.9.6"
  }
 },
 "nbformat": 4,
 "nbformat_minor": 5
}
