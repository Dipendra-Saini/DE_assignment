{
 "cells": [
  {
   "cell_type": "markdown",
   "id": "72803f5c-f243-4b75-9c99-43d46f34cfda",
   "metadata": {},
   "source": [
    "Importing the Necessary Module"
   ]
  },
  {
   "cell_type": "code",
   "execution_count": 2,
   "id": "ac6bfbb0-2540-42c3-90cd-b72c7ef211a2",
   "metadata": {
    "tags": []
   },
   "outputs": [],
   "source": [
    "import pandas as pd\n",
    "import numpy as np\n",
    "import json"
   ]
  },
  {
   "cell_type": "code",
   "execution_count": null,
   "id": "2c8bdac2-68a3-4af3-a6f4-7c68d59439d1",
   "metadata": {},
   "outputs": [],
   "source": [
    "# Opening JSON file\n",
    "f = open('domain.json',encoding='utf8')\n",
    "\n",
    "# returns JSON object as a dictionary\n",
    "data = json.load(f)"
   ]
  },
  {
   "cell_type": "code",
   "execution_count": null,
   "id": "3b9d17f5-41cf-4683-80ac-51099294bddc",
   "metadata": {},
   "outputs": [],
   "source": [
    "#Create dataframe\n",
    "df = pd.DataFrame(data)"
   ]
  },
  {
   "cell_type": "code",
   "execution_count": null,
   "id": "c5628622-92f0-4635-ba8a-a6b573a1ad85",
   "metadata": {},
   "outputs": [],
   "source": [
    "#Data cleaning\n",
    "#Remove empty,null and Nan records\n",
    "df = df[df['domain_groups'].notna()]\n",
    "df = df[df['foundedDate'].notna()]\n",
    "df = df[df['fundingList'].notna()]\n",
    "df = df[df['employeeNumber'].notna()]\n",
    "df.drop(df[df['domain_groups'] == {}].index, inplace = True)"
   ]
  },
  {
   "cell_type": "code",
   "execution_count": null,
   "id": "3bf012ac-3a9a-400c-98c7-edd05afa8401",
   "metadata": {},
   "outputs": [],
   "source": [
    "#Check dataframe\n",
    "df.head()"
   ]
  },
  {
   "cell_type": "code",
   "execution_count": null,
   "id": "f8ab8296-7d53-42fc-a2a7-428817232d4c",
   "metadata": {},
   "outputs": [],
   "source": [
    "#Creating the list of every field\n",
    "taglist = list(df['tags'])\n",
    "cnlist = list(df['companyName'])\n",
    "dnlist = list(df['domainName'])\n",
    "cdlist = list(df['companyDesc'])\n",
    "fundlist = list(df['fundingList'])\n",
    "cblist = list(df['crunchbase_url'])\n",
    "enlist = list(df['employeeNumber'])\n",
    "fdlist = list(df['foundedDate'])\n",
    "cwlist = list(df['companyWebsite'])\n",
    "dglist = list(df['domain_groups'])\n",
    "typelist = list(df['TYPE'])"
   ]
  },
  {
   "cell_type": "code",
   "execution_count": null,
   "id": "45d5e9b7-758a-4501-8a0c-4ad113e28cbc",
   "metadata": {},
   "outputs": [],
   "source": [
    "#Converted the dataframe to excel file name: data.xlsx\n",
    "df.to_excel(\"data.xlsx\",sheet_name='Sheet1',index=False)"
   ]
  },
  {
   "cell_type": "code",
   "execution_count": null,
   "id": "884ea18a-a85c-4390-8c8e-1e43164cd9ce",
   "metadata": {},
   "outputs": [],
   "source": [
    "#Conversion of date from $d1d2M to d1d2 format and storing it into list\n",
    "li = []\n",
    "for it in range(0,len(fdlist)):\n",
    "    if '$numberLong' in fdlist[it]['$date']:\n",
    "        pass\n",
    "    else:\n",
    "        li.append(fdlist[it]['$date'])"
   ]
  },
  {
   "cell_type": "code",
   "execution_count": null,
   "id": "397d7cc2-80af-4f8e-88e8-db055d80260e",
   "metadata": {},
   "outputs": [],
   "source": [
    "#Our main function where we are calculating the growth of each company that tag name is matching\n",
    "# and calculating the groupint the company_name and growth in dictionary as key:value pair\n",
    "growth = {}\n",
    "def calculate_growth_data(tag):\n",
    "    dic = {'M':1000000, 'B': 1000000000, 'K': 1000}\n",
    "    for i,val in enumerate(taglist):\n",
    "        if val == tag:\n",
    "            if 'moneyRaised' in fundlist[i][0]:\n",
    "                if '.' in fundlist[i][0]['moneyRaised']:\n",
    "                    if fundlist[i][0]['moneyRaised'][-1] == 'M':\n",
    "                        growth[(float(fundlist[i][0]['moneyRaised'][1:-1])*(2023-int(li[i][:4]))*(dic['M']))] = cnlist[i]\n",
    "                    elif fundlist[i][0]['moneyRaised'][-1] == 'B':\n",
    "                        growth[(float(fundlist[i][0]['moneyRaised'][1:-1])*(2023-int(li[i][:4]))*(dic['B']))] = cnlist[i]\n",
    "                    else:\n",
    "                        growth[(float(fundlist[i][0]['moneyRaised'][1:-1])*(2023-int(li[i][:4]))*(dic['K']))] = cnlist[i]\n",
    "                else:\n",
    "                    if fundlist[i][0]['moneyRaised'][-1] == 'M':\n",
    "                        growth[(int(fundlist[i][0]['moneyRaised'][1:-1])*(2023-int(li[i][:4]))*(dic['M']))] = cnlist[i]\n",
    "                    elif fundlist[i][0]['moneyRaised'][-1] == 'B':\n",
    "                        growth[(int(fundlist[i][0]['moneyRaised'][1:-1])*(2023-int(li[i][:4]))*(dic['B']))] = cnlist[i]\n",
    "                    else:\n",
    "                        growth[(int(fundlist[i][0]['moneyRaised'][1:-1])*(2023-int(li[i][:4]))*(dic['K']))] = cnlist[i]\n",
    "            else:\n",
    "                pass\n",
    "        else:\n",
    "            pass"
   ]
  },
  {
   "cell_type": "code",
   "execution_count": null,
   "id": "4e5b8b32-f1f1-4e4c-98a2-1451ba3ecc4b",
   "metadata": {},
   "outputs": [],
   "source": [
    "#Running the function with tag name \"mobile\"\n",
    "domain = 'mobile'\n",
    "calculate_growth_data(domain)"
   ]
  },
  {
   "cell_type": "code",
   "execution_count": null,
   "id": "ea85e096-4487-458b-9828-c41bd5a40cd5",
   "metadata": {},
   "outputs": [],
   "source": [
    "#Sorting the dictionary based on keys so that we get top and bottom companies that have highest and lowest growth rate\n",
    "dict(sorted(growth.items()))"
   ]
  },
  {
   "cell_type": "code",
   "execution_count": null,
   "id": "16c5c88a-14aa-40dd-bbc4-56032316356f",
   "metadata": {},
   "outputs": [],
   "source": [
    "print(\"Fastest growing companies in the\",domain, \"domain:\")\n",
    "print(list(growth.items())[:5])\n",
    "\n",
    "print(\"Slowest growing companies in the\", domain, \"domain:\")\n",
    "print(list(growth.items())[-5:])\n"
   ]
  }
 ],
 "metadata": {
  "kernelspec": {
   "display_name": "Python 3 (ipykernel)",
   "language": "python",
   "name": "python3"
  },
  "language_info": {
   "codemirror_mode": {
    "name": "ipython",
    "version": 3
   },
   "file_extension": ".py",
   "mimetype": "text/x-python",
   "name": "python",
   "nbconvert_exporter": "python",
   "pygments_lexer": "ipython3",
   "version": "3.9.6"
  }
 },
 "nbformat": 4,
 "nbformat_minor": 5
}
